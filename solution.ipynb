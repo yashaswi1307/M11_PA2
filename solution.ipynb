{
  "cells": [
    {
      "cell_type": "markdown",
      "metadata": {
        "id": "view-in-github",
        "colab_type": "text"
      },
      "source": [
        "<a href=\"https://colab.research.google.com/github/yashaswi1307/M11_PA2/blob/main/solution.ipynb\" target=\"_parent\"><img src=\"https://colab.research.google.com/assets/colab-badge.svg\" alt=\"Open In Colab\"/></a>"
      ]
    },
    {
      "cell_type": "markdown",
      "metadata": {
        "id": "Usy3MaWKa8qo"
      },
      "source": [
        "# What drives the price of a car?\n",
        "\n",
        "![](C:/content/images/kurt.jpeg)"
      ]
    },
    {
      "cell_type": "markdown",
      "metadata": {
        "id": "Qrbqyz8Ta8qq"
      },
      "source": [
        "**OVERVIEW**\n",
        "\n",
        "In this application, you will explore a dataset from Kaggle. The original dataset contained information on 3 million used cars. The provided dataset contains information on 426K cars to ensure speed of processing.  Your goal is to understand what factors make a car more or less expensive.  As a result of your analysis, you should provide clear recommendations to your client -- a used car dealership -- as to what consumers value in a used car."
      ]
    },
    {
      "cell_type": "code",
      "source": [
        "from google.colab import drive\n",
        "drive.mount('/content/drive')"
      ],
      "metadata": {
        "colab": {
          "base_uri": "https://localhost:8080/"
        },
        "id": "I-Eq2UiYeYh8",
        "outputId": "532719e9-250a-4317-dc13-31e9c2098fc1"
      },
      "execution_count": 30,
      "outputs": [
        {
          "output_type": "stream",
          "name": "stdout",
          "text": [
            "Drive already mounted at /content/drive; to attempt to forcibly remount, call drive.mount(\"/content/drive\", force_remount=True).\n"
          ]
        }
      ]
    },
    {
      "cell_type": "markdown",
      "metadata": {
        "id": "ujdKpe30a8qr"
      },
      "source": [
        "### CRISP-DM Framework\n",
        "\n",
        "<center>\n",
        "    <img src = C:/content/images/crisp.png width = 50%/>\n",
        "</center>\n",
        "\n",
        "\n",
        "To frame the task, throughout our practical applications, we will refer back to a standard process in industry for data projects called CRISP-DM.  This process provides a framework for working through a data problem.  Your first step in this application will be to read through a brief overview of CRISP-DM [here](https://mo-pcco.s3.us-east-1.amazonaws.com/BH-PCMLAI/module_11/readings_starter.zip).  After reading the overview, answer the questions below."
      ]
    },
    {
      "cell_type": "markdown",
      "metadata": {
        "id": "OK-5JL_Qa8qs"
      },
      "source": [
        "### Business Understanding\n",
        "\n",
        "From a business perspective, we are tasked with identifying key drivers for used car prices.  In the CRISP-DM overview, we are asked to convert this business framing to a data problem definition.  Using a few sentences, reframe the task as a data task with the appropriate technical vocabulary."
      ]
    },
    {
      "cell_type": "code",
      "execution_count": 31,
      "metadata": {
        "id": "fGgXmEQSa8qs"
      },
      "outputs": [],
      "source": [
        "import pandas as pd\n",
        "import numpy as np\n",
        "import matplotlib.pyplot as plt\n",
        "\n",
        "from sklearn.model_selection import train_test_split, cross_val_score, RandomizedSearchCV\n",
        "from sklearn.preprocessing import StandardScaler, OneHotEncoder\n",
        "from sklearn.compose import ColumnTransformer\n",
        "from sklearn.pipeline import Pipeline\n",
        "from sklearn.impute import SimpleImputer\n",
        "from sklearn.linear_model import Ridge\n",
        "from sklearn.ensemble import RandomForestRegressor, GradientBoostingRegressor\n",
        "from sklearn.metrics import mean_squared_error, r2_score\n",
        "from scipy.stats import randint, uniform"
      ]
    },
    {
      "cell_type": "code",
      "execution_count": 32,
      "metadata": {
        "id": "fJHi1ZxSa8qu"
      },
      "outputs": [],
      "source": [
        "# Load data\n",
        "df = pd.read_csv('/content/drive/MyDrive/Colab Notebooks/content/data/vehicles.csv')"
      ]
    },
    {
      "cell_type": "markdown",
      "metadata": {
        "id": "WwNa5bYZa8qv"
      },
      "source": [
        "**Business Objective:**\n",
        "A used-car dealership seeks to identify which vehicle attributes most significantly impact resale price for pricing decisions.\n",
        "\n",
        "**Data Mining Objective:**\n",
        "Formulate a supervised regression task to predict a car's sale price from features including year, manufacturer, odometer reading, condition, and geographic region.\n",
        "\n",
        "**Success Criteria:**\n",
        "    - Achieve a cross-validated R² ≥ 0.65 on the hold-out set.\n",
        "    - Extract the top five features by importance (e.g., age, mileage, brand) for actionable insights.\n",
        "    - Quantify marginal effects: e.g., dollar impact per additional year of age or per 10,000 miles."
      ]
    },
    {
      "cell_type": "code",
      "execution_count": 33,
      "metadata": {
        "colab": {
          "base_uri": "https://localhost:8080/"
        },
        "id": "MyLggmT-a8qv",
        "outputId": "4c7ba66b-8336-4282-ab10-0740c0c3f334"
      },
      "outputs": [
        {
          "output_type": "stream",
          "name": "stdout",
          "text": [
            "Dataset shape: (426880, 18)\n",
            "Available columns: ['id', 'region', 'price', 'year', 'manufacturer', 'model', 'condition', 'cylinders', 'fuel', 'odometer', 'title_status', 'transmission', 'VIN', 'drive', 'size', 'type', 'paint_color', 'state']\n"
          ]
        }
      ],
      "source": [
        "# Visualize data\n",
        "print(f\"Dataset shape: {df.shape}\")\n",
        "print(\"Available columns:\", df.columns.tolist())"
      ]
    },
    {
      "cell_type": "code",
      "execution_count": 34,
      "metadata": {
        "colab": {
          "base_uri": "https://localhost:8080/"
        },
        "id": "Iha1_SmPa8qw",
        "outputId": "6191adc8-b7de-44ae-ae86-2071e5594622"
      },
      "outputs": [
        {
          "output_type": "stream",
          "name": "stdout",
          "text": [
            "<class 'pandas.core.frame.DataFrame'>\n",
            "RangeIndex: 426880 entries, 0 to 426879\n",
            "Data columns (total 18 columns):\n",
            " #   Column        Non-Null Count   Dtype  \n",
            "---  ------        --------------   -----  \n",
            " 0   id            426880 non-null  int64  \n",
            " 1   region        426880 non-null  object \n",
            " 2   price         426880 non-null  int64  \n",
            " 3   year          425675 non-null  float64\n",
            " 4   manufacturer  409234 non-null  object \n",
            " 5   model         421603 non-null  object \n",
            " 6   condition     252776 non-null  object \n",
            " 7   cylinders     249202 non-null  object \n",
            " 8   fuel          423867 non-null  object \n",
            " 9   odometer      422480 non-null  float64\n",
            " 10  title_status  418638 non-null  object \n",
            " 11  transmission  424324 non-null  object \n",
            " 12  VIN           265838 non-null  object \n",
            " 13  drive         296313 non-null  object \n",
            " 14  size          120519 non-null  object \n",
            " 15  type          334022 non-null  object \n",
            " 16  paint_color   296677 non-null  object \n",
            " 17  state         426880 non-null  object \n",
            "dtypes: float64(2), int64(2), object(14)\n",
            "memory usage: 58.6+ MB\n"
          ]
        }
      ],
      "source": [
        "# Investigate the data\n",
        "df.info()\n",
        "#Total rows: 426880\n",
        "#Total columns: 17"
      ]
    },
    {
      "cell_type": "markdown",
      "metadata": {
        "id": "S9sC_5qla8qx"
      },
      "source": [
        "### Data Understanding\n",
        "\n",
        "After considering the business understanding, we want to get familiar with our data.  Write down some steps that you would take to get to know the dataset and identify any quality issues within.  Take time to get to know the dataset and explore what information it contains and how this could be used to inform your business understanding."
      ]
    },
    {
      "cell_type": "code",
      "execution_count": 35,
      "metadata": {
        "colab": {
          "base_uri": "https://localhost:8080/"
        },
        "id": "BuAzQQ4Ka8qx",
        "outputId": "2971408b-8d0b-4c01-d3f1-a396fd9bd68d"
      },
      "outputs": [
        {
          "output_type": "stream",
          "name": "stdout",
          "text": [
            "              price           year      odometer\n",
            "count  4.268800e+05  425675.000000  4.224800e+05\n",
            "mean   7.519903e+04    2011.235191  9.804333e+04\n",
            "std    1.218228e+07       9.452120  2.138815e+05\n",
            "min    0.000000e+00    1900.000000  0.000000e+00\n",
            "25%    5.900000e+03    2008.000000  3.770400e+04\n",
            "50%    1.395000e+04    2013.000000  8.554800e+04\n",
            "75%    2.648575e+04    2017.000000  1.335425e+05\n",
            "max    3.736929e+09    2022.000000  1.000000e+07\n"
          ]
        }
      ],
      "source": [
        "# Print statistics summary\n",
        "numeric_cols = ['price', 'year', 'odometer']\n",
        "print(df[numeric_cols].describe())"
      ]
    },
    {
      "cell_type": "code",
      "execution_count": 36,
      "metadata": {
        "colab": {
          "base_uri": "https://localhost:8080/"
        },
        "id": "jLUJasYla8qy",
        "outputId": "29771500-8cee-46f1-ac04-c5d621aa9946"
      },
      "outputs": [
        {
          "output_type": "stream",
          "name": "stdout",
          "text": [
            "Missing rates per column:\n",
            " size            0.717675\n",
            "cylinders       0.416225\n",
            "condition       0.407852\n",
            "VIN             0.377254\n",
            "drive           0.305863\n",
            "paint_color     0.305011\n",
            "type            0.217527\n",
            "manufacturer    0.041337\n",
            "title_status    0.019308\n",
            "model           0.012362\n",
            "odometer        0.010307\n",
            "fuel            0.007058\n",
            "transmission    0.005988\n",
            "year            0.002823\n",
            "region          0.000000\n",
            "id              0.000000\n",
            "price           0.000000\n",
            "state           0.000000\n",
            "dtype: float64\n",
            "Duplicate IDs: 0\n"
          ]
        }
      ],
      "source": [
        "# Print missin rates and duplicates\n",
        "missing_rates = df.isnull().mean().sort_values(ascending=False)\n",
        "print(\"Missing rates per column:\\n\", missing_rates)\n",
        "print(f\"Duplicate IDs: {df.duplicated(subset=['id']).sum()}\")\n"
      ]
    },
    {
      "cell_type": "code",
      "execution_count": 37,
      "metadata": {
        "colab": {
          "base_uri": "https://localhost:8080/"
        },
        "id": "9s96I8Jna8qy",
        "outputId": "9741338e-bf1a-4334-d13a-91ab75b1d1ad"
      },
      "outputs": [
        {
          "output_type": "stream",
          "name": "stdout",
          "text": [
            "\n",
            "Value counts for manufacturer:\n",
            "manufacturer\n",
            "ford         70985\n",
            "chevrolet    55064\n",
            "toyota       34202\n",
            "honda        21269\n",
            "nissan       19067\n",
            "jeep         19014\n",
            "ram          18342\n",
            "NaN          17646\n",
            "gmc          16785\n",
            "bmw          14699\n",
            "Name: count, dtype: int64\n",
            "\n",
            "Value counts for condition:\n",
            "condition\n",
            "NaN          174104\n",
            "good         121456\n",
            "excellent    101467\n",
            "like new      21178\n",
            "fair           6769\n",
            "new            1305\n",
            "salvage         601\n",
            "Name: count, dtype: int64\n",
            "\n",
            "Value counts for region:\n",
            "region\n",
            "columbus                    3608\n",
            "jacksonville                3562\n",
            "spokane / coeur d'alene     2988\n",
            "eugene                      2985\n",
            "fresno / madera             2983\n",
            "orlando                     2983\n",
            "bend                        2982\n",
            "omaha / council bluffs      2982\n",
            "new hampshire               2981\n",
            "kennewick-pasco-richland    2981\n",
            "Name: count, dtype: int64\n",
            "\n",
            "Value counts for title_status:\n",
            "title_status\n",
            "clean         405117\n",
            "NaN             8242\n",
            "rebuilt         7219\n",
            "salvage         3868\n",
            "lien            1422\n",
            "missing          814\n",
            "parts only       198\n",
            "Name: count, dtype: int64\n"
          ]
        }
      ],
      "source": [
        "# Count categories\n",
        "for col in ['manufacturer', 'condition', 'region', 'title_status']:\n",
        "    print(f\"\\nValue counts for {col}:\")\n",
        "    print(df[col].value_counts(dropna=False).head(10))"
      ]
    },
    {
      "cell_type": "code",
      "execution_count": 38,
      "metadata": {
        "colab": {
          "base_uri": "https://localhost:8080/",
          "height": 927
        },
        "id": "bHVVRpi6a8qy",
        "outputId": "9b7239b5-72d4-4dc3-8b0c-b073e372b0a4"
      },
      "outputs": [
        {
          "output_type": "display_data",
          "data": {
            "text/plain": [
              "<Figure size 640x480 with 1 Axes>"
            ],
            "image/png": "[encoded data removed]"
          },
          "metadata": {}
        },
        {
          "output_type": "display_data",
          "data": {
            "text/plain": [
              "<Figure size 640x480 with 1 Axes>"
            ],
            "image/png": "[encoded data removed]"
          },
          "metadata": {}
        }
      ],
      "source": [
        "# Create a Distribution Plots\n",
        "plt.figure()\n",
        "df['price'].hist(bins=50)\n",
        "plt.title('Price Distribution')\n",
        "plt.xlabel('Price')\n",
        "plt.ylabel('Frequency')\n",
        "plt.show()\n",
        "\n",
        "plt.figure()\n",
        "df['odometer'].hist(bins=50)\n",
        "plt.title('Odometer Distribution')\n",
        "plt.xlabel('Odometer')\n",
        "plt.ylabel('Frequency')\n",
        "plt.show()"
      ]
    },
    {
      "cell_type": "code",
      "execution_count": 39,
      "metadata": {
        "colab": {
          "base_uri": "https://localhost:8080/"
        },
        "id": "A5xFB-s7a8qy",
        "outputId": "28107237-c5b9-4597-8c33-1f03e88362c5"
      },
      "outputs": [
        {
          "output_type": "stream",
          "name": "stdout",
          "text": [
            "Top 1% price threshold: 66995.0\n",
            "Top 1% odometer threshold: 280000.0\n",
            "Records > 99th percentile price: 4265\n",
            "Records > 99th percentile odometer: 4166\n"
          ]
        }
      ],
      "source": [
        "# Crate Outlier Detection\n",
        "# Identify vehicles with price or odometer in the top 1%\n",
        "price_threshold = df['price'].quantile(0.99)\n",
        "odometer_threshold = df['odometer'].quantile(0.99)\n",
        "print(f\"Top 1% price threshold: {price_threshold}\")\n",
        "print(f\"Top 1% odometer threshold: {odometer_threshold}\")\n",
        "\n",
        "high_price = df[df['price'] > price_threshold]\n",
        "high_mileage = df[df['odometer'] > odometer_threshold]\n",
        "print(f\"Records > 99th percentile price: {len(high_price)}\")\n",
        "print(f\"Records > 99th percentile odometer: {len(high_mileage)}\")"
      ]
    },
    {
      "cell_type": "code",
      "execution_count": 40,
      "metadata": {
        "colab": {
          "base_uri": "https://localhost:8080/"
        },
        "id": "pE2fex-Ea8qz",
        "outputId": "6e5924d7-a36a-4171-8d1e-a70b7ffd3f16"
      },
      "outputs": [
        {
          "output_type": "stream",
          "name": "stdout",
          "text": [
            "id                   0\n",
            "region               0\n",
            "price                0\n",
            "year              1205\n",
            "manufacturer     17646\n",
            "model             5277\n",
            "condition       174104\n",
            "cylinders       177678\n",
            "fuel              3013\n",
            "odometer          4400\n",
            "title_status      8242\n",
            "transmission      2556\n",
            "VIN             161042\n",
            "drive           130567\n",
            "size            306361\n",
            "type             92858\n",
            "paint_color     130203\n",
            "state                0\n",
            "dtype: int64\n"
          ]
        }
      ],
      "source": [
        "# Verify all missing values\n",
        "print(df.isnull().sum())"
      ]
    },
    {
      "cell_type": "markdown",
      "metadata": {
        "id": "ftxoKm14a8qz"
      },
      "source": [
        "### Data Preparation\n",
        "\n",
        "After our initial exploration and fine-tuning of the business understanding, it is time to construct our final dataset prior to modeling.  Here, we want to make sure to handle any integrity issues and cleaning, the engineering of new features, any transformations that we believe should happen (scaling, logarithms, normalization, etc.), and general preparation for modeling with `sklearn`."
      ]
    },
    {
      "cell_type": "code",
      "execution_count": 41,
      "metadata": {
        "id": "m6PL3Spma8qz"
      },
      "outputs": [],
      "source": [
        "# Remove missing values from critical fields\n",
        "df = df.dropna(subset=['price', 'year'])"
      ]
    },
    {
      "cell_type": "code",
      "execution_count": 42,
      "metadata": {
        "id": "UmiZkvfxa8qz"
      },
      "outputs": [],
      "source": [
        "# Optional outlier removal\n",
        "price_cap = df['price'].quantile(0.99)\n",
        "odometer_cap = df['odometer'].quantile(0.99)\n",
        "df = df[df['price'] <= price_cap]\n",
        "df = df[df['odometer'] <= odometer_cap]"
      ]
    },
    {
      "cell_type": "code",
      "execution_count": 43,
      "metadata": {
        "id": "7IVof7Bra8qz"
      },
      "outputs": [],
      "source": [
        "# Feature engineering\n",
        "CURRENT_YEAR = 2025\n",
        "df['age'] = CURRENT_YEAR - df['year']\n",
        "df['log_odometer'] = np.log1p(df['odometer'])\n",
        "# Age buckets\n",
        "df['age_bucket'] = pd.cut(\n",
        "    df['age'], bins=[0,5,10,15,20,100],\n",
        "    labels=['0-5','6-10','11-15','16-20','20+'], right=False\n",
        ")"
      ]
    },
    {
      "cell_type": "code",
      "execution_count": 44,
      "metadata": {
        "id": "_D-PS6bla8qz"
      },
      "outputs": [],
      "source": [
        "# Assemble feature matrix and target\n",
        "def assemble_features(df):\n",
        "    # Select features\n",
        "    target = df['price']\n",
        "    features = ['age','log_odometer','manufacturer','region','condition','age_bucket']\n",
        "    X = df[features].copy()\n",
        "    return X, df['price']\n",
        "\n",
        "X, y = assemble_features(df)"
      ]
    },
    {
      "cell_type": "code",
      "execution_count": 45,
      "metadata": {
        "id": "88Bv8SrYa8q0"
      },
      "outputs": [],
      "source": [
        "# Train/test split\n",
        "X_train, X_test, y_train, y_test = train_test_split(\n",
        "    X, y, test_size=0.2, random_state=42\n",
        ")"
      ]
    },
    {
      "cell_type": "code",
      "execution_count": 46,
      "metadata": {
        "id": "LHBe0foGa8q0"
      },
      "outputs": [],
      "source": [
        "# Preprocessing & pipeline for sklearn\n",
        "numeric_features = ['age','log_odometer']\n",
        "categorical_features = ['manufacturer','region','condition','age_bucket']\n",
        "\n",
        "# Numeric pipeline: impute missing then scale\n",
        "numeric_transformer = Pipeline([\n",
        "    ('imputer', SimpleImputer(strategy='median')),\n",
        "    ('scaler', StandardScaler()),\n",
        "])\n",
        "\n",
        "# Categorical pipeline: impute missing then one-hot encode\n",
        "categorical_transformer = Pipeline([\n",
        "    ('imputer', SimpleImputer(strategy='constant', fill_value='missing')),\n",
        "    ('onehot', OneHotEncoder(handle_unknown='ignore'))\n",
        "])\n",
        "\n",
        "preprocessor = ColumnTransformer([\n",
        "    ('num', numeric_transformer, numeric_features),\n",
        "    ('cat', categorical_transformer, categorical_features),\n",
        "])"
      ]
    },
    {
      "cell_type": "code",
      "execution_count": 47,
      "metadata": {
        "id": "OnLV_AnLa8q0"
      },
      "outputs": [],
      "source": [
        "# Full modeling pipeline\n",
        "model_pipeline = Pipeline([\n",
        "    ('preprocessor', preprocessor),\n",
        "    ('regressor', Ridge(alpha=1.0))\n",
        "])"
      ]
    },
    {
      "cell_type": "code",
      "execution_count": 48,
      "metadata": {
        "colab": {
          "base_uri": "https://localhost:8080/"
        },
        "id": "0Gd6gTzha8q0",
        "outputId": "ccd631f0-978c-4476-ad19-8f1f19e87012"
      },
      "outputs": [
        {
          "output_type": "stream",
          "name": "stdout",
          "text": [
            "Pipeline fitted. Transformed training shape: (330432, 462)\n"
          ]
        }
      ],
      "source": [
        "# Fit pipeline and inspect\n",
        "model_pipeline.fit(X_train, y_train)\n",
        "\n",
        "# Get transformed feature matrix shape\n",
        "X_tr = model_pipeline.named_steps['preprocessor'].transform(X_train)\n",
        "print(f\"Pipeline fitted. Transformed training shape: {X_tr.shape}\")"
      ]
    },
    {
      "cell_type": "markdown",
      "metadata": {
        "id": "pZfJr4nva8q0"
      },
      "source": [
        "### Modeling\n",
        "\n",
        "With your (almost?) final dataset in hand, it is now time to build some models.  Here, you should build a number of different regression models with the price as the target.  In building your models, you should explore different parameters and be sure to cross-validate your findings."
      ]
    },
    {
      "cell_type": "code",
      "execution_count": 49,
      "metadata": {
        "id": "D3EYbRzWa8q0"
      },
      "outputs": [],
      "source": [
        "# Define pipelines for different regressors\n",
        "ridge_pipeline = Pipeline([\n",
        "    ('preprocessor', preprocessor),\n",
        "    ('regressor', Ridge(alpha=1.0))\n",
        "])\n",
        "\n",
        "rf_pipeline = Pipeline([\n",
        "    ('preprocessor', preprocessor),\n",
        "    ('regressor', RandomForestRegressor(random_state=42))\n",
        "])\n",
        "\n",
        "gb_pipeline = Pipeline([\n",
        "    ('preprocessor', preprocessor),\n",
        "    ('regressor', GradientBoostingRegressor(random_state=42))\n",
        "])\n",
        "\n",
        "ridge_pipeline = Pipeline([\n",
        "    ('preprocessor', preprocessor),\n",
        "    ('regressor', Ridge(alpha=1.0))\n",
        "])\n",
        "ridge_scores = cross_val_score(ridge_pipeline, X_train, y_train, cv=3, scoring='r2', n_jobs=-1)\n",
        "print(f\"Ridge CV R²: {ridge_scores.mean():.3f} ± {ridge_scores.std():.3f}\")"
      ]
    },
    {
      "cell_type": "code",
      "execution_count": 50,
      "metadata": {
        "colab": {
          "base_uri": "https://localhost:8080/"
        },
        "id": "NDqyWCjja8q0",
        "outputId": "f879c08c-4b8d-4279-8eed-ef2f1f5ad6ff"
      },
      "outputs": [
        {
          "output_type": "stream",
          "name": "stdout",
          "text": [
            "Ridge CV R²: 0.367 ± 0.003\n"
          ]
        }
      ],
      "source": [
        "# Ridge Regression with cross-validation\n",
        "ridge_scores = cross_val_score(ridge_pipeline, X_train, y_train, cv=5, scoring='r2', n_jobs=-1)\n",
        "print(f\"Ridge CV R²: {ridge_scores.mean():.3f} ± {ridge_scores.std():.3f}\")"
      ]
    },
    {
      "cell_type": "code",
      "execution_count": 60,
      "metadata": {
        "colab": {
          "base_uri": "https://localhost:8080/"
        },
        "id": "OQLU-Arca8q1",
        "outputId": "2ea7ff87-aeb5-4967-ce87-9dbef1ce8024"
      },
      "outputs": [
        {
          "output_type": "stream",
          "name": "stdout",
          "text": [
            "Best RF params: {'regressor__max_depth': 12, 'regressor__n_estimators': 50}\n",
            "RF CV R²: 0.460\n",
            "Random Forest search time: 9.97 minutes\n"
          ]
        }
      ],
      "source": [
        "# Random Forest Randomized Search (faster)\n",
        "import time\n",
        "rf_pipeline = Pipeline([\n",
        "    ('preprocessor', preprocessor),\n",
        "    ('regressor', RandomForestRegressor(random_state=42))\n",
        "])\n",
        "rf_param_dist = {\n",
        "    'regressor__n_estimators': randint(30, 80),\n",
        "    'regressor__max_depth': randint(5, 15)\n",
        "}\n",
        "random_rf = RandomizedSearchCV(\n",
        "    rf_pipeline, rf_param_dist, n_iter=2, cv=2, scoring='r2', n_jobs=-1, random_state=42\n",
        ")\n",
        "start_rf = time.time()\n",
        "random_rf.fit(X_train, y_train)\n",
        "end_rf = time.time()\n",
        "print(f\"Best RF params: {random_rf.best_params_}\")\n",
        "print(f\"RF CV R²: {random_rf.best_score_:.3f}\")\n",
        "print(f\"Random Forest search time: {(end_rf - start_rf)/60:.2f} minutes\")"
      ]
    },
    {
      "cell_type": "code",
      "source": [
        "sub_frac = 0.3\n",
        "X_sub = X_train.sample(frac=sub_frac, random_state=42)\n",
        "y_sub = y_train.loc[X_sub.index]\n",
        "rf_pipe = Pipeline([('pre', preprocessor), ('reg', RandomForestRegressor(random_state=42, n_jobs=-1))])\n",
        "rf_dist = {'reg__n_estimators': randint(30,80), 'reg__max_depth': randint(5,15)}\n",
        "rf_search = RandomizedSearchCV(rf_pipe, rf_dist, n_iter=2, cv=2, scoring='r2', n_jobs=-1, random_state=42)\n",
        "start = time.time()\n",
        "rf_search.fit(X_sub, y_sub)\n",
        "print(f\"RF best: {rf_search.best_params_}\")\n",
        "print(f\"RF R² on subsample: {rf_search.best_score_:.3f}\")\n",
        "print(f\"RF search time: {(time.time()-start)/60:.2f} minutes\")"
      ],
      "metadata": {
        "colab": {
          "base_uri": "https://localhost:8080/"
        },
        "id": "_jOcx-NX0qp6",
        "outputId": "67c11f9b-3737-4b63-ee77-9ffa62d3b2e9"
      },
      "execution_count": 61,
      "outputs": [
        {
          "output_type": "stream",
          "name": "stdout",
          "text": [
            "RF best: {'reg__max_depth': 12, 'reg__n_estimators': 50}\n",
            "RF R² on subsample: 0.440\n",
            "RF search time: 2.30 minutes\n"
          ]
        }
      ]
    },
    {
      "cell_type": "code",
      "execution_count": 62,
      "metadata": {
        "colab": {
          "base_uri": "https://localhost:8080/"
        },
        "id": "KzhPmAHpa8q1",
        "outputId": "8869e2c1-a078-45b4-aa53-b81ee2f012c4"
      },
      "outputs": [
        {
          "output_type": "stream",
          "name": "stdout",
          "text": [
            "Best GB params: {'regressor__learning_rate': np.float64(0.09725728947351475), 'regressor__max_depth': 7, 'regressor__n_estimators': 149}\n",
            "GB CV R²: 0.485\n",
            "Random Forest search time: 10.36 minutes\n"
          ]
        }
      ],
      "source": [
        "# Gradient Boosting Randomized Search\n",
        "gb_pipeline = Pipeline([\n",
        "    ('preprocessor', preprocessor),\n",
        "    ('regressor', GradientBoostingRegressor(random_state=42))\n",
        "])\n",
        "gb_param_dist = {\n",
        "    'regressor__n_estimators': randint(50, 200),\n",
        "    'regressor__learning_rate': uniform(0.01, 0.19),\n",
        "    'regressor__max_depth': randint(3, 10)\n",
        "}\n",
        "random_gb = RandomizedSearchCV(\n",
        "    gb_pipeline, gb_param_dist, n_iter=5, cv=2, scoring='r2', n_jobs=-1, random_state=42\n",
        ")\n",
        "start_gb = time.time()\n",
        "random_gb.fit(X_train, y_train)\n",
        "end_gb = time.time()\n",
        "print(\"Best GB params:\", random_gb.best_params_)\n",
        "print(f\"GB CV R²: {random_gb.best_score_:.3f}\")\n",
        "print(f\"Random Forest search time: {(end_gb - start_gb)/60:.2f} minutes\")"
      ]
    },
    {
      "cell_type": "code",
      "source": [],
      "metadata": {
        "id": "DmA6sSaYfr9G"
      },
      "execution_count": null,
      "outputs": []
    }
  ],
  "metadata": {
    "kernelspec": {
      "display_name": "Python 3 (ipykernel)",
      "language": "python",
      "name": "python3"
    },
    "language_info": {
      "codemirror_mode": {
        "name": "ipython",
        "version": 3
      },
      "file_extension": ".py",
      "mimetype": "text/x-python",
      "name": "python",
      "nbconvert_exporter": "python",
      "pygments_lexer": "ipython3",
      "version": "3.11.2"
    },
    "colab": {
      "provenance": [],
      "include_colab_link": true
    }
  },
  "nbformat": 4,
  "nbformat_minor": 0
}