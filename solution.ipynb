{
 "cells": [
  {
   "cell_type": "markdown",
   "metadata": {},
   "source": [
    "# What drives the price of a car?\n",
    "\n",
    "![](images/kurt.jpeg)"
   ]
  },
  {
   "cell_type": "markdown",
   "metadata": {},
   "source": [
    "**OVERVIEW**\n",
    "\n",
    "In this application, you will explore a dataset from Kaggle. The original dataset contained information on 3 million used cars. The provided dataset contains information on 426K cars to ensure speed of processing.  Your goal is to understand what factors make a car more or less expensive.  As a result of your analysis, you should provide clear recommendations to your client -- a used car dealership -- as to what consumers value in a used car."
   ]
  },
  {
   "cell_type": "markdown",
   "metadata": {},
   "source": [
    "### CRISP-DM Framework\n",
    "\n",
    "<center>\n",
    "    <img src = images/crisp.png width = 50%/>\n",
    "</center>\n",
    "\n",
    "\n",
    "To frame the task, throughout our practical applications, we will refer back to a standard process in industry for data projects called CRISP-DM.  This process provides a framework for working through a data problem.  Your first step in this application will be to read through a brief overview of CRISP-DM [here](https://mo-pcco.s3.us-east-1.amazonaws.com/BH-PCMLAI/module_11/readings_starter.zip).  After reading the overview, answer the questions below."
   ]
  },
  {
   "cell_type": "markdown",
   "metadata": {},
   "source": [
    "### Business Understanding\n",
    "\n",
    "From a business perspective, we are tasked with identifying key drivers for used car prices.  In the CRISP-DM overview, we are asked to convert this business framing to a data problem definition.  Using a few sentences, reframe the task as a data task with the appropriate technical vocabulary. "
   ]
  },
  {
   "cell_type": "code",
   "execution_count": 1,
   "metadata": {},
   "outputs": [],
   "source": [
    "# Import\n",
    "import pandas as pd\n",
    "import numpy as np\n",
    "import matplotlib.pyplot as plt\n",
    "\n",
    "from sklearn.model_selection import train_test_split, cross_val_score, GridSearchCV\n",
    "from sklearn.preprocessing import StandardScaler, OneHotEncoder\n",
    "from sklearn.compose import ColumnTransformer\n",
    "from sklearn.pipeline import Pipeline\n",
    "from sklearn.impute import SimpleImputer\n",
    "from sklearn.linear_model import Ridge\n",
    "from sklearn.ensemble import RandomForestRegressor, GradientBoostingRegressor\n",
    "from sklearn.metrics import mean_squared_error, r2_score\n",
    "from sklearn.model_selection import GridSearchCV"
   ]
  },
  {
   "cell_type": "code",
   "execution_count": 2,
   "metadata": {},
   "outputs": [],
   "source": [
    "# Load data\n",
    "df = pd.read_csv('data/vehicles.csv')"
   ]
  },
  {
   "cell_type": "markdown",
   "metadata": {},
   "source": [
    "**Business Objective:**\n",
    "A used-car dealership seeks to identify which vehicle attributes most significantly impact resale price for pricing decisions.\n",
    "\n",
    "**Data Mining Objective:**\n",
    "Formulate a supervised regression task to predict a car's sale price from features including year, manufacturer, odometer reading, condition, and geographic region.\n",
    "\n",
    "**Success Criteria:**\n",
    "    - Achieve a cross-validated R² ≥ 0.65 on the hold-out set.\n",
    "    - Extract the top five features by importance (e.g., age, mileage, brand) for actionable insights.\n",
    "    - Quantify marginal effects: e.g., dollar impact per additional year of age or per 10,000 miles."
   ]
  },
  {
   "cell_type": "code",
   "execution_count": 3,
   "metadata": {},
   "outputs": [
    {
     "name": "stdout",
     "output_type": "stream",
     "text": [
      "Dataset shape: (426880, 18)\n",
      "Available columns: ['id', 'region', 'price', 'year', 'manufacturer', 'model', 'condition', 'cylinders', 'fuel', 'odometer', 'title_status', 'transmission', 'VIN', 'drive', 'size', 'type', 'paint_color', 'state']\n"
     ]
    }
   ],
   "source": [
    "# Visualize data\n",
    "print(f\"Dataset shape: {df.shape}\")\n",
    "print(\"Available columns:\", df.columns.tolist())"
   ]
  },
  {
   "cell_type": "code",
   "execution_count": 4,
   "metadata": {},
   "outputs": [
    {
     "name": "stdout",
     "output_type": "stream",
     "text": [
      "<class 'pandas.core.frame.DataFrame'>\n",
      "RangeIndex: 426880 entries, 0 to 426879\n",
      "Data columns (total 18 columns):\n",
      " #   Column        Non-Null Count   Dtype  \n",
      "---  ------        --------------   -----  \n",
      " 0   id            426880 non-null  int64  \n",
      " 1   region        426880 non-null  object \n",
      " 2   price         426880 non-null  int64  \n",
      " 3   year          425675 non-null  float64\n",
      " 4   manufacturer  409234 non-null  object \n",
      " 5   model         421603 non-null  object \n",
      " 6   condition     252776 non-null  object \n",
      " 7   cylinders     249202 non-null  object \n",
      " 8   fuel          423867 non-null  object \n",
      " 9   odometer      422480 non-null  float64\n",
      " 10  title_status  418638 non-null  object \n",
      " 11  transmission  424324 non-null  object \n",
      " 12  VIN           265838 non-null  object \n",
      " 13  drive         296313 non-null  object \n",
      " 14  size          120519 non-null  object \n",
      " 15  type          334022 non-null  object \n",
      " 16  paint_color   296677 non-null  object \n",
      " 17  state         426880 non-null  object \n",
      "dtypes: float64(2), int64(2), object(14)\n",
      "memory usage: 58.6+ MB\n"
     ]
    }
   ],
   "source": [
    "# Investigate the data\n",
    "df.info()\n",
    "#Total rows: 426880\n",
    "#Total columns: 17"
   ]
  },
  {
   "cell_type": "markdown",
   "metadata": {},
   "source": [
    "### Data Understanding\n",
    "\n",
    "After considering the business understanding, we want to get familiar with our data.  Write down some steps that you would take to get to know the dataset and identify any quality issues within.  Take time to get to know the dataset and explore what information it contains and how this could be used to inform your business understanding."
   ]
  },
  {
   "cell_type": "code",
   "execution_count": 5,
   "metadata": {},
   "outputs": [
    {
     "name": "stdout",
     "output_type": "stream",
     "text": [
      "              price           year      odometer\n",
      "count  4.268800e+05  425675.000000  4.224800e+05\n",
      "mean   7.519903e+04    2011.235191  9.804333e+04\n",
      "std    1.218228e+07       9.452120  2.138815e+05\n",
      "min    0.000000e+00    1900.000000  0.000000e+00\n",
      "25%    5.900000e+03    2008.000000  3.770400e+04\n",
      "50%    1.395000e+04    2013.000000  8.554800e+04\n",
      "75%    2.648575e+04    2017.000000  1.335425e+05\n",
      "max    3.736929e+09    2022.000000  1.000000e+07\n"
     ]
    }
   ],
   "source": [
    "# Print statistics summary\n",
    "numeric_cols = ['price', 'year', 'odometer']\n",
    "print(df[numeric_cols].describe())"
   ]
  },
  {
   "cell_type": "code",
   "execution_count": 6,
   "metadata": {},
   "outputs": [
    {
     "name": "stdout",
     "output_type": "stream",
     "text": [
      "Missing rates per column:\n",
      " size            0.717675\n",
      "cylinders       0.416225\n",
      "condition       0.407852\n",
      "VIN             0.377254\n",
      "drive           0.305863\n",
      "paint_color     0.305011\n",
      "type            0.217527\n",
      "manufacturer    0.041337\n",
      "title_status    0.019308\n",
      "model           0.012362\n",
      "odometer        0.010307\n",
      "fuel            0.007058\n",
      "transmission    0.005988\n",
      "year            0.002823\n",
      "id              0.000000\n",
      "region          0.000000\n",
      "price           0.000000\n",
      "state           0.000000\n",
      "dtype: float64\n",
      "Duplicate IDs: 0\n"
     ]
    }
   ],
   "source": [
    "# Print missin rates and duplicates\n",
    "missing_rates = df.isnull().mean().sort_values(ascending=False)\n",
    "print(\"Missing rates per column:\\n\", missing_rates)\n",
    "print(f\"Duplicate IDs: {df.duplicated(subset=['id']).sum()}\")\n"
   ]
  },
  {
   "cell_type": "code",
   "execution_count": 7,
   "metadata": {},
   "outputs": [
    {
     "name": "stdout",
     "output_type": "stream",
     "text": [
      "\n",
      "Value counts for manufacturer:\n",
      "manufacturer\n",
      "ford         70985\n",
      "chevrolet    55064\n",
      "toyota       34202\n",
      "honda        21269\n",
      "nissan       19067\n",
      "jeep         19014\n",
      "ram          18342\n",
      "NaN          17646\n",
      "gmc          16785\n",
      "bmw          14699\n",
      "Name: count, dtype: int64\n",
      "\n",
      "Value counts for condition:\n",
      "condition\n",
      "NaN          174104\n",
      "good         121456\n",
      "excellent    101467\n",
      "like new      21178\n",
      "fair           6769\n",
      "new            1305\n",
      "salvage         601\n",
      "Name: count, dtype: int64\n",
      "\n",
      "Value counts for region:\n",
      "region\n",
      "columbus                    3608\n",
      "jacksonville                3562\n",
      "spokane / coeur d'alene     2988\n",
      "eugene                      2985\n",
      "fresno / madera             2983\n",
      "orlando                     2983\n",
      "bend                        2982\n",
      "omaha / council bluffs      2982\n",
      "new hampshire               2981\n",
      "kennewick-pasco-richland    2981\n",
      "Name: count, dtype: int64\n",
      "\n",
      "Value counts for title_status:\n",
      "title_status\n",
      "clean         405117\n",
      "NaN             8242\n",
      "rebuilt         7219\n",
      "salvage         3868\n",
      "lien            1422\n",
      "missing          814\n",
      "parts only       198\n",
      "Name: count, dtype: int64\n"
     ]
    }
   ],
   "source": [
    "# Count categories\n",
    "for col in ['manufacturer', 'condition', 'region', 'title_status']:\n",
    "    print(f\"\\nValue counts for {col}:\")\n",
    "    print(df[col].value_counts(dropna=False).head(10))"
   ]
  },
  {
   "cell_type": "code",
   "execution_count": 8,
   "metadata": {},
   "outputs": [
    {
     "data": {
      "image/png": "[encoded data removed]",
      "text/plain": [
       "<Figure size 640x480 with 1 Axes>"
      ]
     },
     "metadata": {},
     "output_type": "display_data"
    },
    {
     "data": {
      "image/png": "[encoded data removed]",
      "text/plain": [
       "<Figure size 640x480 with 1 Axes>"
      ]
     },
     "metadata": {},
     "output_type": "display_data"
    }
   ],
   "source": [
    "# Create a Distribution Plots\n",
    "plt.figure()\n",
    "df['price'].hist(bins=50)\n",
    "plt.title('Price Distribution')\n",
    "plt.xlabel('Price')\n",
    "plt.ylabel('Frequency')\n",
    "plt.show()\n",
    "\n",
    "plt.figure()\n",
    "df['odometer'].hist(bins=50)\n",
    "plt.title('Odometer Distribution')\n",
    "plt.xlabel('Odometer')\n",
    "plt.ylabel('Frequency')\n",
    "plt.show()"
   ]
  },
  {
   "cell_type": "code",
   "execution_count": 9,
   "metadata": {},
   "outputs": [
    {
     "name": "stdout",
     "output_type": "stream",
     "text": [
      "Top 1% price threshold: 66995.0\n",
      "Top 1% odometer threshold: 280000.0\n",
      "Records > 99th percentile price: 4265\n",
      "Records > 99th percentile odometer: 4166\n"
     ]
    }
   ],
   "source": [
    "# Crate Outlier Detection\n",
    "# Identify vehicles with price or odometer in the top 1%\n",
    "price_threshold = df['price'].quantile(0.99)\n",
    "odometer_threshold = df['odometer'].quantile(0.99)\n",
    "print(f\"Top 1% price threshold: {price_threshold}\")\n",
    "print(f\"Top 1% odometer threshold: {odometer_threshold}\")\n",
    "\n",
    "high_price = df[df['price'] > price_threshold]\n",
    "high_mileage = df[df['odometer'] > odometer_threshold]\n",
    "print(f\"Records > 99th percentile price: {len(high_price)}\")\n",
    "print(f\"Records > 99th percentile odometer: {len(high_mileage)}\")"
   ]
  },
  {
   "cell_type": "code",
   "execution_count": 10,
   "metadata": {},
   "outputs": [
    {
     "name": "stdout",
     "output_type": "stream",
     "text": [
      "id                   0\n",
      "region               0\n",
      "price                0\n",
      "year              1205\n",
      "manufacturer     17646\n",
      "model             5277\n",
      "condition       174104\n",
      "cylinders       177678\n",
      "fuel              3013\n",
      "odometer          4400\n",
      "title_status      8242\n",
      "transmission      2556\n",
      "VIN             161042\n",
      "drive           130567\n",
      "size            306361\n",
      "type             92858\n",
      "paint_color     130203\n",
      "state                0\n",
      "dtype: int64\n"
     ]
    }
   ],
   "source": [
    "# Verify all missing values\n",
    "print(df.isnull().sum())"
   ]
  },
  {
   "cell_type": "markdown",
   "metadata": {},
   "source": [
    "### Data Preparation\n",
    "\n",
    "After our initial exploration and fine-tuning of the business understanding, it is time to construct our final dataset prior to modeling.  Here, we want to make sure to handle any integrity issues and cleaning, the engineering of new features, any transformations that we believe should happen (scaling, logarithms, normalization, etc.), and general preparation for modeling with `sklearn`. "
   ]
  },
  {
   "cell_type": "code",
   "execution_count": 11,
   "metadata": {},
   "outputs": [],
   "source": [
    "# Remove missing values from critical fields\n",
    "df = df.dropna(subset=['price', 'year'])"
   ]
  },
  {
   "cell_type": "code",
   "execution_count": 12,
   "metadata": {},
   "outputs": [],
   "source": [
    "# Optional outlier removal\n",
    "price_cap = df['price'].quantile(0.99)\n",
    "odometer_cap = df['odometer'].quantile(0.99)\n",
    "df = df[df['price'] <= price_cap]\n",
    "df = df[df['odometer'] <= odometer_cap]"
   ]
  },
  {
   "cell_type": "code",
   "execution_count": 13,
   "metadata": {},
   "outputs": [],
   "source": [
    "# Feature engineering\n",
    "CURRENT_YEAR = 2025\n",
    "df['age'] = CURRENT_YEAR - df['year']\n",
    "df['log_odometer'] = np.log1p(df['odometer'])\n",
    "# Age buckets\n",
    "df['age_bucket'] = pd.cut(\n",
    "    df['age'], bins=[0,5,10,15,20,100],\n",
    "    labels=['0-5','6-10','11-15','16-20','20+'], right=False\n",
    ")"
   ]
  },
  {
   "cell_type": "code",
   "execution_count": 14,
   "metadata": {},
   "outputs": [],
   "source": [
    "# Assemble feature matrix and target\n",
    "def assemble_features(df):\n",
    "    # Select features\n",
    "    target = df['price']\n",
    "    features = ['age','log_odometer','manufacturer','region','condition','age_bucket']\n",
    "    X = df[features].copy()\n",
    "    return X, df['price']\n",
    "\n",
    "X, y = assemble_features(df)"
   ]
  },
  {
   "cell_type": "code",
   "execution_count": 15,
   "metadata": {},
   "outputs": [],
   "source": [
    "# Train/test split\n",
    "X_train, X_test, y_train, y_test = train_test_split(\n",
    "    X, y, test_size=0.2, random_state=42\n",
    ")"
   ]
  },
  {
   "cell_type": "code",
   "execution_count": 16,
   "metadata": {},
   "outputs": [],
   "source": [
    "# Preprocessing & pipeline for sklearn\n",
    "numeric_features = ['age','log_odometer']\n",
    "categorical_features = ['manufacturer','region','condition','age_bucket']\n",
    "\n",
    "# Numeric pipeline: impute missing then scale\n",
    "numeric_transformer = Pipeline([\n",
    "    ('imputer', SimpleImputer(strategy='median')),\n",
    "    ('scaler', StandardScaler()),\n",
    "])\n",
    "\n",
    "# Categorical pipeline: impute missing then one-hot encode\n",
    "categorical_transformer = Pipeline([\n",
    "    ('imputer', SimpleImputer(strategy='constant', fill_value='missing')),\n",
    "    ('onehot', OneHotEncoder(handle_unknown='ignore'))\n",
    "])\n",
    "\n",
    "preprocessor = ColumnTransformer([\n",
    "    ('num', numeric_transformer, numeric_features),\n",
    "    ('cat', categorical_transformer, categorical_features),\n",
    "])"
   ]
  },
  {
   "cell_type": "code",
   "execution_count": 17,
   "metadata": {},
   "outputs": [],
   "source": [
    "# Full modeling pipeline\n",
    "model_pipeline = Pipeline([\n",
    "    ('preprocessor', preprocessor),\n",
    "    ('regressor', Ridge(alpha=1.0))\n",
    "])"
   ]
  },
  {
   "cell_type": "code",
   "execution_count": 18,
   "metadata": {},
   "outputs": [
    {
     "name": "stdout",
     "output_type": "stream",
     "text": [
      "Pipeline fitted. Transformed training shape: (330432, 462)\n"
     ]
    }
   ],
   "source": [
    "# Fit pipeline and inspect\n",
    "model_pipeline.fit(X_train, y_train)\n",
    "\n",
    "# Get transformed feature matrix shape\n",
    "X_tr = model_pipeline.named_steps['preprocessor'].transform(X_train)\n",
    "print(f\"Pipeline fitted. Transformed training shape: {X_tr.shape}\")"
   ]
  },
  {
   "cell_type": "markdown",
   "metadata": {},
   "source": [
    "### Modeling\n",
    "\n",
    "With your (almost?) final dataset in hand, it is now time to build some models.  Here, you should build a number of different regression models with the price as the target.  In building your models, you should explore different parameters and be sure to cross-validate your findings."
   ]
  },
  {
   "cell_type": "code",
   "execution_count": 19,
   "metadata": {},
   "outputs": [],
   "source": [
    "# Define pipelines for different regressors\n",
    "ridge_pipeline = Pipeline([\n",
    "    ('preprocessor', preprocessor),\n",
    "    ('regressor', Ridge(alpha=1.0))\n",
    "])\n",
    "\n",
    "rf_pipeline = Pipeline([\n",
    "    ('preprocessor', preprocessor),\n",
    "    ('regressor', RandomForestRegressor(random_state=42))\n",
    "])\n",
    "\n",
    "gb_pipeline = Pipeline([\n",
    "    ('preprocessor', preprocessor),\n",
    "    ('regressor', GradientBoostingRegressor(random_state=42))\n",
    "])"
   ]
  },
  {
   "cell_type": "code",
   "execution_count": 20,
   "metadata": {},
   "outputs": [
    {
     "name": "stdout",
     "output_type": "stream",
     "text": [
      "Ridge CV R²: 0.367 ± 0.003\n"
     ]
    }
   ],
   "source": [
    "# Ridge Regression with cross-validation\n",
    "ridge_scores = cross_val_score(ridge_pipeline, X_train, y_train, cv=5, scoring='r2', n_jobs=-1)\n",
    "print(f\"Ridge CV R²: {ridge_scores.mean():.3f} ± {ridge_scores.std():.3f}\")"
   ]
  },
  {
   "cell_type": "code",
   "execution_count": null,
   "metadata": {},
   "outputs": [],
   "source": [
    "# Random Forest Grid Search\n",
    "rf_param_grid = {\n",
    "    'regressor__n_estimators': [50, 100],\n",
    "    'regressor__max_depth': [None, 10, 20]\n",
    "}\n",
    "grid_rf = GridSearchCV(rf_pipeline, rf_param_grid, cv=3, scoring='r2', n_jobs=-1)\n",
    "grid_rf.fit(X_train, y_train)\n",
    "print(\"Best RF params:\", grid_rf.best_params_)\n",
    "print(f\"RF CV R²: {grid_rf.best_score_:.3f}\")"
   ]
  },
  {
   "cell_type": "code",
   "execution_count": null,
   "metadata": {},
   "outputs": [],
   "source": [
    "# Gradient Boosting Grid Search\n",
    "gb_param_grid = {\n",
    "    'regressor__n_estimators': [100, 200],\n",
    "    'regressor__learning_rate': [0.1, 0.05]\n",
    "}\n",
    "grid_gb = GridSearchCV(gb_pipeline, gb_param_grid, cv=3, scoring='r2', n_jobs=-1)\n",
    "grid_gb.fit(X_train, y_train)\n",
    "print(\"Best GB params:\", grid_gb.best_params_)\n",
    "print(f\"GB CV R²: {grid_gb.best_score_:.3f}\")"
   ]
  }
 ],
 "metadata": {
  "kernelspec": {
   "display_name": "Python 3 (ipykernel)",
   "language": "python",
   "name": "python3"
  },
  "language_info": {
   "codemirror_mode": {
    "name": "ipython",
    "version": 3
   },
   "file_extension": ".py",
   "mimetype": "text/x-python",
   "name": "python",
   "nbconvert_exporter": "python",
   "pygments_lexer": "ipython3",
   "version": "3.11.2"
  }
 },
 "nbformat": 4,
 "nbformat_minor": 2
}
